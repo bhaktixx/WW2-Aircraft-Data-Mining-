{
  "nbformat": 4,
  "nbformat_minor": 0,
  "metadata": {
    "colab": {
      "name": "Preprocessing + Decision Tree on WW2 Aircraft Data",
      "provenance": [],
      "collapsed_sections": []
    },
    "kernelspec": {
      "name": "python3",
      "display_name": "Python 3"
    },
    "language_info": {
      "name": "python"
    }
  },
  "cells": [
    {
      "cell_type": "markdown",
      "source": [
        "\n",
        "***Project Details***\n",
        "- Data Source : Kaggle ([WW2 Aircraft](https://www.kaggle.com/datasets/iskk97/ww2-aircraft))\n",
        "- By: Bhakti Chokshi\n",
        "- Class: ICT'19 A\n",
        "- Guidance by: Archana Ma'am"
      ],
      "metadata": {
        "id": "2ttEy1nHWTHp"
      }
    },
    {
      "cell_type": "markdown",
      "source": [
        "***Description***\n",
        ">\n",
        "The project is divided in 2 parts : Preprocessing, and Decision Tree Implementation\n",
        "Preprocessing part includes removal of null values and scaling the data.\n",
        "Decision Tree Implementation is done directly with the help of sklearn library with criterions - gini and entropy.\n",
        "Accuracy with \"gini\" on test data = 95.29%\n",
        "Accuracy with \"entropy\" on test data = 94.11% \n"
      ],
      "metadata": {
        "id": "l7-MLaM7YIvl"
      }
    },
    {
      "cell_type": "code",
      "execution_count": null,
      "metadata": {
        "id": "UAjNGG_EOleT"
      },
      "outputs": [],
      "source": [
        "import numpy as np\n",
        "import pandas as pd\n",
        "import matplotlib.pyplot as plt\n",
        "import seaborn as sns\n",
        "import warnings\n",
        "import math\n",
        "warnings.filterwarnings('ignore')"
      ]
    },
    {
      "cell_type": "code",
      "source": [
        "data = \"ww2aircraft.csv\""
      ],
      "metadata": {
        "id": "0VK8_Q16fK7g"
      },
      "execution_count": null,
      "outputs": []
    },
    {
      "cell_type": "code",
      "source": [
        "df = pd.read_csv(data)"
      ],
      "metadata": {
        "id": "zrKpOPeQfNOH"
      },
      "execution_count": null,
      "outputs": []
    },
    {
      "cell_type": "code",
      "source": [
        "df.shape"
      ],
      "metadata": {
        "colab": {
          "base_uri": "https://localhost:8080/"
        },
        "id": "ATKIwVOTfOcV",
        "outputId": "850b0ee5-2153-4a8b-8317-dc38c4e3f48b"
      },
      "execution_count": null,
      "outputs": [
        {
          "output_type": "execute_result",
          "data": {
            "text/plain": [
              "(338, 15)"
            ]
          },
          "metadata": {},
          "execution_count": 4
        }
      ]
    },
    {
      "cell_type": "code",
      "source": [
        "df.head()"
      ],
      "metadata": {
        "colab": {
          "base_uri": "https://localhost:8080/",
          "height": 206
        },
        "id": "jm2o1BWHfQYE",
        "outputId": "63dffaec-04a4-43ce-a861-8f618af0efd0"
      },
      "execution_count": null,
      "outputs": [
        {
          "output_type": "execute_result",
          "data": {
            "text/plain": [
              "              Name              PrimaryRole                   Manufacturer  \\\n",
              "0  K-Class Airship           Patrol Airship  Goodyear Aircraft Corporation   \n",
              "1  L-4 Grasshopper  Reconnaissance Aircraft           Piper Aircraft, Inc.   \n",
              "2  L-2 Grasshopper  Reconnaissance Aircraft           Taylorcraft Aviation   \n",
              "3             Ki-4  Reconnaissance Aircraft      Nakajima Aircraft Company   \n",
              "4    Fi 156 Storch  Reconnaissance Aircraft         Gerhard Fieseler Werke   \n",
              "\n",
              "         Country   Number  ActiveSince  LastBuilt  Retired    State  Crew  \\\n",
              "0  United States    134.0       1938.0     1954.0   1959.0  Retired    10   \n",
              "1  United States  20038.0       1938.0     1947.0      NaN   Active     1   \n",
              "2  United States   1984.0       1941.0        NaN      NaN   Active     2   \n",
              "3          Japan    516.0       1934.0     1939.0   1943.0  Retired     2   \n",
              "4        Germany   2900.0       1937.0     1965.0   1970.0  Retired     2   \n",
              "\n",
              "  Length  Wingspan  Height  WingArea  MaxSpeed  \n",
              "0  76.73     17.63     NaN       NaN     125.0  \n",
              "1   6.83     10.74    2.03     16.58     140.0  \n",
              "2    6.9     10.80    2.00     16.80     148.0  \n",
              "3   7.73     12.00    3.50     29.70     153.0  \n",
              "4   9.91     14.25    3.05     26.00     175.0  "
            ],
            "text/html": [
              "\n",
              "  <div id=\"df-8a9c35a9-bdee-43b4-91be-12bbdf65846a\">\n",
              "    <div class=\"colab-df-container\">\n",
              "      <div>\n",
              "<style scoped>\n",
              "    .dataframe tbody tr th:only-of-type {\n",
              "        vertical-align: middle;\n",
              "    }\n",
              "\n",
              "    .dataframe tbody tr th {\n",
              "        vertical-align: top;\n",
              "    }\n",
              "\n",
              "    .dataframe thead th {\n",
              "        text-align: right;\n",
              "    }\n",
              "</style>\n",
              "<table border=\"1\" class=\"dataframe\">\n",
              "  <thead>\n",
              "    <tr style=\"text-align: right;\">\n",
              "      <th></th>\n",
              "      <th>Name</th>\n",
              "      <th>PrimaryRole</th>\n",
              "      <th>Manufacturer</th>\n",
              "      <th>Country</th>\n",
              "      <th>Number</th>\n",
              "      <th>ActiveSince</th>\n",
              "      <th>LastBuilt</th>\n",
              "      <th>Retired</th>\n",
              "      <th>State</th>\n",
              "      <th>Crew</th>\n",
              "      <th>Length</th>\n",
              "      <th>Wingspan</th>\n",
              "      <th>Height</th>\n",
              "      <th>WingArea</th>\n",
              "      <th>MaxSpeed</th>\n",
              "    </tr>\n",
              "  </thead>\n",
              "  <tbody>\n",
              "    <tr>\n",
              "      <th>0</th>\n",
              "      <td>K-Class Airship</td>\n",
              "      <td>Patrol Airship</td>\n",
              "      <td>Goodyear Aircraft Corporation</td>\n",
              "      <td>United States</td>\n",
              "      <td>134.0</td>\n",
              "      <td>1938.0</td>\n",
              "      <td>1954.0</td>\n",
              "      <td>1959.0</td>\n",
              "      <td>Retired</td>\n",
              "      <td>10</td>\n",
              "      <td>76.73</td>\n",
              "      <td>17.63</td>\n",
              "      <td>NaN</td>\n",
              "      <td>NaN</td>\n",
              "      <td>125.0</td>\n",
              "    </tr>\n",
              "    <tr>\n",
              "      <th>1</th>\n",
              "      <td>L-4 Grasshopper</td>\n",
              "      <td>Reconnaissance Aircraft</td>\n",
              "      <td>Piper Aircraft, Inc.</td>\n",
              "      <td>United States</td>\n",
              "      <td>20038.0</td>\n",
              "      <td>1938.0</td>\n",
              "      <td>1947.0</td>\n",
              "      <td>NaN</td>\n",
              "      <td>Active</td>\n",
              "      <td>1</td>\n",
              "      <td>6.83</td>\n",
              "      <td>10.74</td>\n",
              "      <td>2.03</td>\n",
              "      <td>16.58</td>\n",
              "      <td>140.0</td>\n",
              "    </tr>\n",
              "    <tr>\n",
              "      <th>2</th>\n",
              "      <td>L-2 Grasshopper</td>\n",
              "      <td>Reconnaissance Aircraft</td>\n",
              "      <td>Taylorcraft Aviation</td>\n",
              "      <td>United States</td>\n",
              "      <td>1984.0</td>\n",
              "      <td>1941.0</td>\n",
              "      <td>NaN</td>\n",
              "      <td>NaN</td>\n",
              "      <td>Active</td>\n",
              "      <td>2</td>\n",
              "      <td>6.9</td>\n",
              "      <td>10.80</td>\n",
              "      <td>2.00</td>\n",
              "      <td>16.80</td>\n",
              "      <td>148.0</td>\n",
              "    </tr>\n",
              "    <tr>\n",
              "      <th>3</th>\n",
              "      <td>Ki-4</td>\n",
              "      <td>Reconnaissance Aircraft</td>\n",
              "      <td>Nakajima Aircraft Company</td>\n",
              "      <td>Japan</td>\n",
              "      <td>516.0</td>\n",
              "      <td>1934.0</td>\n",
              "      <td>1939.0</td>\n",
              "      <td>1943.0</td>\n",
              "      <td>Retired</td>\n",
              "      <td>2</td>\n",
              "      <td>7.73</td>\n",
              "      <td>12.00</td>\n",
              "      <td>3.50</td>\n",
              "      <td>29.70</td>\n",
              "      <td>153.0</td>\n",
              "    </tr>\n",
              "    <tr>\n",
              "      <th>4</th>\n",
              "      <td>Fi 156 Storch</td>\n",
              "      <td>Reconnaissance Aircraft</td>\n",
              "      <td>Gerhard Fieseler Werke</td>\n",
              "      <td>Germany</td>\n",
              "      <td>2900.0</td>\n",
              "      <td>1937.0</td>\n",
              "      <td>1965.0</td>\n",
              "      <td>1970.0</td>\n",
              "      <td>Retired</td>\n",
              "      <td>2</td>\n",
              "      <td>9.91</td>\n",
              "      <td>14.25</td>\n",
              "      <td>3.05</td>\n",
              "      <td>26.00</td>\n",
              "      <td>175.0</td>\n",
              "    </tr>\n",
              "  </tbody>\n",
              "</table>\n",
              "</div>\n",
              "      <button class=\"colab-df-convert\" onclick=\"convertToInteractive('df-8a9c35a9-bdee-43b4-91be-12bbdf65846a')\"\n",
              "              title=\"Convert this dataframe to an interactive table.\"\n",
              "              style=\"display:none;\">\n",
              "        \n",
              "  <svg xmlns=\"http://www.w3.org/2000/svg\" height=\"24px\"viewBox=\"0 0 24 24\"\n",
              "       width=\"24px\">\n",
              "    <path d=\"M0 0h24v24H0V0z\" fill=\"none\"/>\n",
              "    <path d=\"M18.56 5.44l.94 2.06.94-2.06 2.06-.94-2.06-.94-.94-2.06-.94 2.06-2.06.94zm-11 1L8.5 8.5l.94-2.06 2.06-.94-2.06-.94L8.5 2.5l-.94 2.06-2.06.94zm10 10l.94 2.06.94-2.06 2.06-.94-2.06-.94-.94-2.06-.94 2.06-2.06.94z\"/><path d=\"M17.41 7.96l-1.37-1.37c-.4-.4-.92-.59-1.43-.59-.52 0-1.04.2-1.43.59L10.3 9.45l-7.72 7.72c-.78.78-.78 2.05 0 2.83L4 21.41c.39.39.9.59 1.41.59.51 0 1.02-.2 1.41-.59l7.78-7.78 2.81-2.81c.8-.78.8-2.07 0-2.86zM5.41 20L4 18.59l7.72-7.72 1.47 1.35L5.41 20z\"/>\n",
              "  </svg>\n",
              "      </button>\n",
              "      \n",
              "  <style>\n",
              "    .colab-df-container {\n",
              "      display:flex;\n",
              "      flex-wrap:wrap;\n",
              "      gap: 12px;\n",
              "    }\n",
              "\n",
              "    .colab-df-convert {\n",
              "      background-color: #E8F0FE;\n",
              "      border: none;\n",
              "      border-radius: 50%;\n",
              "      cursor: pointer;\n",
              "      display: none;\n",
              "      fill: #1967D2;\n",
              "      height: 32px;\n",
              "      padding: 0 0 0 0;\n",
              "      width: 32px;\n",
              "    }\n",
              "\n",
              "    .colab-df-convert:hover {\n",
              "      background-color: #E2EBFA;\n",
              "      box-shadow: 0px 1px 2px rgba(60, 64, 67, 0.3), 0px 1px 3px 1px rgba(60, 64, 67, 0.15);\n",
              "      fill: #174EA6;\n",
              "    }\n",
              "\n",
              "    [theme=dark] .colab-df-convert {\n",
              "      background-color: #3B4455;\n",
              "      fill: #D2E3FC;\n",
              "    }\n",
              "\n",
              "    [theme=dark] .colab-df-convert:hover {\n",
              "      background-color: #434B5C;\n",
              "      box-shadow: 0px 1px 3px 1px rgba(0, 0, 0, 0.15);\n",
              "      filter: drop-shadow(0px 1px 2px rgba(0, 0, 0, 0.3));\n",
              "      fill: #FFFFFF;\n",
              "    }\n",
              "  </style>\n",
              "\n",
              "      <script>\n",
              "        const buttonEl =\n",
              "          document.querySelector('#df-8a9c35a9-bdee-43b4-91be-12bbdf65846a button.colab-df-convert');\n",
              "        buttonEl.style.display =\n",
              "          google.colab.kernel.accessAllowed ? 'block' : 'none';\n",
              "\n",
              "        async function convertToInteractive(key) {\n",
              "          const element = document.querySelector('#df-8a9c35a9-bdee-43b4-91be-12bbdf65846a');\n",
              "          const dataTable =\n",
              "            await google.colab.kernel.invokeFunction('convertToInteractive',\n",
              "                                                     [key], {});\n",
              "          if (!dataTable) return;\n",
              "\n",
              "          const docLinkHtml = 'Like what you see? Visit the ' +\n",
              "            '<a target=\"_blank\" href=https://colab.research.google.com/notebooks/data_table.ipynb>data table notebook</a>'\n",
              "            + ' to learn more about interactive tables.';\n",
              "          element.innerHTML = '';\n",
              "          dataTable['output_type'] = 'display_data';\n",
              "          await google.colab.output.renderOutput(dataTable, element);\n",
              "          const docLink = document.createElement('div');\n",
              "          docLink.innerHTML = docLinkHtml;\n",
              "          element.appendChild(docLink);\n",
              "        }\n",
              "      </script>\n",
              "    </div>\n",
              "  </div>\n",
              "  "
            ]
          },
          "metadata": {},
          "execution_count": 5
        }
      ]
    },
    {
      "cell_type": "code",
      "source": [
        "df.info()"
      ],
      "metadata": {
        "colab": {
          "base_uri": "https://localhost:8080/"
        },
        "id": "1yvvAcbEfRXh",
        "outputId": "45903188-b244-47f7-ff89-272890b2315a"
      },
      "execution_count": null,
      "outputs": [
        {
          "output_type": "stream",
          "name": "stdout",
          "text": [
            "<class 'pandas.core.frame.DataFrame'>\n",
            "RangeIndex: 338 entries, 0 to 337\n",
            "Data columns (total 15 columns):\n",
            " #   Column        Non-Null Count  Dtype  \n",
            "---  ------        --------------  -----  \n",
            " 0   Name          338 non-null    object \n",
            " 1   PrimaryRole   338 non-null    object \n",
            " 2   Manufacturer  337 non-null    object \n",
            " 3   Country       338 non-null    object \n",
            " 4   Number        337 non-null    float64\n",
            " 5   ActiveSince   324 non-null    float64\n",
            " 6   LastBuilt     284 non-null    float64\n",
            " 7   Retired       311 non-null    float64\n",
            " 8   State         338 non-null    object \n",
            " 9   Crew          338 non-null    int64  \n",
            " 10  Length        336 non-null    object \n",
            " 11  Wingspan      337 non-null    float64\n",
            " 12  Height        333 non-null    float64\n",
            " 13  WingArea      331 non-null    float64\n",
            " 14  MaxSpeed      338 non-null    float64\n",
            "dtypes: float64(8), int64(1), object(6)\n",
            "memory usage: 39.7+ KB\n"
          ]
        }
      ]
    },
    {
      "cell_type": "code",
      "source": [
        "df.isnull().sum()"
      ],
      "metadata": {
        "colab": {
          "base_uri": "https://localhost:8080/"
        },
        "id": "4I3mE3rPfTwt",
        "outputId": "92c1197d-66a1-4e60-bc78-fa9f02cb8064"
      },
      "execution_count": null,
      "outputs": [
        {
          "output_type": "execute_result",
          "data": {
            "text/plain": [
              "Name             0\n",
              "PrimaryRole      0\n",
              "Manufacturer     1\n",
              "Country          0\n",
              "Number           1\n",
              "ActiveSince     14\n",
              "LastBuilt       54\n",
              "Retired         27\n",
              "State            0\n",
              "Crew             0\n",
              "Length           2\n",
              "Wingspan         1\n",
              "Height           5\n",
              "WingArea         7\n",
              "MaxSpeed         0\n",
              "dtype: int64"
            ]
          },
          "metadata": {},
          "execution_count": 7
        }
      ]
    },
    {
      "cell_type": "code",
      "source": [
        "print(df.dtypes)"
      ],
      "metadata": {
        "colab": {
          "base_uri": "https://localhost:8080/"
        },
        "id": "sw8eMaZ9fXb_",
        "outputId": "4c44c695-194e-49fd-c9d7-c711a7739010"
      },
      "execution_count": null,
      "outputs": [
        {
          "output_type": "stream",
          "name": "stdout",
          "text": [
            "Name             object\n",
            "PrimaryRole      object\n",
            "Manufacturer     object\n",
            "Country          object\n",
            "Number          float64\n",
            "ActiveSince     float64\n",
            "LastBuilt       float64\n",
            "Retired         float64\n",
            "State            object\n",
            "Crew              int64\n",
            "Length           object\n",
            "Wingspan        float64\n",
            "Height          float64\n",
            "WingArea        float64\n",
            "MaxSpeed        float64\n",
            "dtype: object\n"
          ]
        }
      ]
    },
    {
      "cell_type": "code",
      "source": [
        "df.loc[df['Length'] == '1.439.332' , 'Length' ] = '1.439'\n",
        "df.loc[df['Length'] == '1.239.838' , 'Length' ] = '1.239'\n",
        "df.loc[df['Length'] == '1.947.863' , 'Length' ] = '1.947'\n",
        "df.loc[df['Wingspan'] == '1.199.726' , 'Wingspan' ] = '1.199'\n",
        "df.loc[df['Wingspan'] == '1.265.873' , 'Wingspan' ] = '1.265'"
      ],
      "metadata": {
        "id": "0zDt_LgUf9dz"
      },
      "execution_count": null,
      "outputs": []
    },
    {
      "cell_type": "code",
      "source": [
        "df[\"Manufacturer\"].fillna(\"No Manufacturer\", inplace = True)"
      ],
      "metadata": {
        "id": "KWaJ-vggmdqS"
      },
      "execution_count": null,
      "outputs": []
    },
    {
      "cell_type": "code",
      "source": [
        "df = df[df['Number'].notna()]"
      ],
      "metadata": {
        "id": "US9OvPbgjrwj"
      },
      "execution_count": null,
      "outputs": []
    },
    {
      "cell_type": "code",
      "source": [
        "df['ActiveSince'] = pd.to_numeric(df['ActiveSince'])\n",
        "df['LastBuilt'] = pd.to_numeric(df['LastBuilt'])\n",
        "df['Retired'] = pd.to_numeric(df['Retired'])\n",
        "df['Length'] = pd.to_numeric(df['Length'])\n",
        "df['Wingspan'] = pd.to_numeric(df['Wingspan'])\n",
        "df['Height'] = pd.to_numeric(df['Height'])\n",
        "df['WingArea'] = pd.to_numeric(df['WingArea'])\n",
        "df['MaxSpeed'] = pd.to_numeric(df['MaxSpeed'])"
      ],
      "metadata": {
        "id": "E0aB4q1WjxIB"
      },
      "execution_count": null,
      "outputs": []
    },
    {
      "cell_type": "code",
      "source": [
        "df['ActiveSince'] = df['ActiveSince'].fillna(df['ActiveSince'].mode()[0])\n",
        "df['LastBuilt'] = df['LastBuilt'].fillna(df['LastBuilt'].mode()[0])"
      ],
      "metadata": {
        "id": "Z8YuKN0Dlv2I"
      },
      "execution_count": null,
      "outputs": []
    },
    {
      "cell_type": "code",
      "source": [
        "df[\"Retired\"].fillna(0 , inplace = True)"
      ],
      "metadata": {
        "id": "z86KjXGel4Ow"
      },
      "execution_count": null,
      "outputs": []
    },
    {
      "cell_type": "code",
      "source": [
        "PR = df.set_index('PrimaryRole')\n",
        "PR"
      ],
      "metadata": {
        "colab": {
          "base_uri": "https://localhost:8080/",
          "height": 499
        },
        "id": "1P-OH2Dkl5nS",
        "outputId": "65b061d7-1793-41c8-a147-0ee13d94d7b8"
      },
      "execution_count": null,
      "outputs": [
        {
          "output_type": "execute_result",
          "data": {
            "text/plain": [
              "                                       Name                   Manufacturer  \\\n",
              "PrimaryRole                                                                  \n",
              "Patrol Airship              K-Class Airship  Goodyear Aircraft Corporation   \n",
              "Reconnaissance Aircraft     L-4 Grasshopper           Piper Aircraft, Inc.   \n",
              "Reconnaissance Aircraft     L-2 Grasshopper           Taylorcraft Aviation   \n",
              "Reconnaissance Aircraft                Ki-4      Nakajima Aircraft Company   \n",
              "Reconnaissance Aircraft       Fi 156 Storch         Gerhard Fieseler Werke   \n",
              "...                                     ...                            ...   \n",
              "Jet Fighter                    Me 163 Komet               Messerschmitt AG   \n",
              "Jet Fighter                 Me 262 Schwalbe               Messerschmitt AG   \n",
              "Jet Fighter                He 162 Volksjger          Heinkel Flugzeugwerke   \n",
              "Jet Fighter              P-80 Shooting Star           Lockheed Corporation   \n",
              "Jet Fighter                          Meteor           Gloster Aircraft Ltd   \n",
              "\n",
              "                                Country   Number  ActiveSince  LastBuilt  \\\n",
              "PrimaryRole                                                                \n",
              "Patrol Airship            United States    134.0       1938.0     1954.0   \n",
              "Reconnaissance Aircraft   United States  20038.0       1938.0     1947.0   \n",
              "Reconnaissance Aircraft   United States   1984.0       1941.0     1945.0   \n",
              "Reconnaissance Aircraft           Japan    516.0       1934.0     1939.0   \n",
              "Reconnaissance Aircraft         Germany   2900.0       1937.0     1965.0   \n",
              "...                                 ...      ...          ...        ...   \n",
              "Jet Fighter                     Germany    370.0       1944.0     1945.0   \n",
              "Jet Fighter                     Germany   1433.0       1944.0     1945.0   \n",
              "Jet Fighter                     Germany    320.0       1945.0     1945.0   \n",
              "Jet Fighter               United States   1715.0       1945.0     1950.0   \n",
              "Jet Fighter              United Kingdom   3947.0       1944.0     1955.0   \n",
              "\n",
              "                         Retired    State  Crew  Length  Wingspan  Height  \\\n",
              "PrimaryRole                                                                 \n",
              "Patrol Airship            1959.0  Retired    10   76.73     17.63     NaN   \n",
              "Reconnaissance Aircraft      0.0   Active     1    6.83     10.74    2.03   \n",
              "Reconnaissance Aircraft      0.0   Active     2    6.90     10.80    2.00   \n",
              "Reconnaissance Aircraft   1943.0  Retired     2    7.73     12.00    3.50   \n",
              "Reconnaissance Aircraft   1970.0  Retired     2    9.91     14.25    3.05   \n",
              "...                          ...      ...   ...     ...       ...     ...   \n",
              "Jet Fighter               1945.0  Retired     1    5.70      9.30    2.50   \n",
              "Jet Fighter               1951.0  Retired     1   10.60     12.60    3.50   \n",
              "Jet Fighter               1945.0  Retired     1    9.05      7.20    2.60   \n",
              "Jet Fighter               1974.0  Retired     1   10.49     11.81    3.43   \n",
              "Jet Fighter               1980.0  Retired     1   13.59     11.33    3.96   \n",
              "\n",
              "                         WingArea  MaxSpeed  \n",
              "PrimaryRole                                  \n",
              "Patrol Airship                NaN     125.0  \n",
              "Reconnaissance Aircraft     16.58     140.0  \n",
              "Reconnaissance Aircraft     16.80     148.0  \n",
              "Reconnaissance Aircraft     29.70     153.0  \n",
              "Reconnaissance Aircraft     26.00     175.0  \n",
              "...                           ...       ...  \n",
              "Jet Fighter                 19.60     900.0  \n",
              "Jet Fighter                 21.70     900.0  \n",
              "Jet Fighter                 11.16     905.0  \n",
              "Jet Fighter                 22.07     956.0  \n",
              "Jet Fighter                 33.00     970.0  \n",
              "\n",
              "[337 rows x 14 columns]"
            ],
            "text/html": [
              "\n",
              "  <div id=\"df-fe83a81d-b83e-4ff2-97b6-b3cc918ea421\">\n",
              "    <div class=\"colab-df-container\">\n",
              "      <div>\n",
              "<style scoped>\n",
              "    .dataframe tbody tr th:only-of-type {\n",
              "        vertical-align: middle;\n",
              "    }\n",
              "\n",
              "    .dataframe tbody tr th {\n",
              "        vertical-align: top;\n",
              "    }\n",
              "\n",
              "    .dataframe thead th {\n",
              "        text-align: right;\n",
              "    }\n",
              "</style>\n",
              "<table border=\"1\" class=\"dataframe\">\n",
              "  <thead>\n",
              "    <tr style=\"text-align: right;\">\n",
              "      <th></th>\n",
              "      <th>Name</th>\n",
              "      <th>Manufacturer</th>\n",
              "      <th>Country</th>\n",
              "      <th>Number</th>\n",
              "      <th>ActiveSince</th>\n",
              "      <th>LastBuilt</th>\n",
              "      <th>Retired</th>\n",
              "      <th>State</th>\n",
              "      <th>Crew</th>\n",
              "      <th>Length</th>\n",
              "      <th>Wingspan</th>\n",
              "      <th>Height</th>\n",
              "      <th>WingArea</th>\n",
              "      <th>MaxSpeed</th>\n",
              "    </tr>\n",
              "    <tr>\n",
              "      <th>PrimaryRole</th>\n",
              "      <th></th>\n",
              "      <th></th>\n",
              "      <th></th>\n",
              "      <th></th>\n",
              "      <th></th>\n",
              "      <th></th>\n",
              "      <th></th>\n",
              "      <th></th>\n",
              "      <th></th>\n",
              "      <th></th>\n",
              "      <th></th>\n",
              "      <th></th>\n",
              "      <th></th>\n",
              "      <th></th>\n",
              "    </tr>\n",
              "  </thead>\n",
              "  <tbody>\n",
              "    <tr>\n",
              "      <th>Patrol Airship</th>\n",
              "      <td>K-Class Airship</td>\n",
              "      <td>Goodyear Aircraft Corporation</td>\n",
              "      <td>United States</td>\n",
              "      <td>134.0</td>\n",
              "      <td>1938.0</td>\n",
              "      <td>1954.0</td>\n",
              "      <td>1959.0</td>\n",
              "      <td>Retired</td>\n",
              "      <td>10</td>\n",
              "      <td>76.73</td>\n",
              "      <td>17.63</td>\n",
              "      <td>NaN</td>\n",
              "      <td>NaN</td>\n",
              "      <td>125.0</td>\n",
              "    </tr>\n",
              "    <tr>\n",
              "      <th>Reconnaissance Aircraft</th>\n",
              "      <td>L-4 Grasshopper</td>\n",
              "      <td>Piper Aircraft, Inc.</td>\n",
              "      <td>United States</td>\n",
              "      <td>20038.0</td>\n",
              "      <td>1938.0</td>\n",
              "      <td>1947.0</td>\n",
              "      <td>0.0</td>\n",
              "      <td>Active</td>\n",
              "      <td>1</td>\n",
              "      <td>6.83</td>\n",
              "      <td>10.74</td>\n",
              "      <td>2.03</td>\n",
              "      <td>16.58</td>\n",
              "      <td>140.0</td>\n",
              "    </tr>\n",
              "    <tr>\n",
              "      <th>Reconnaissance Aircraft</th>\n",
              "      <td>L-2 Grasshopper</td>\n",
              "      <td>Taylorcraft Aviation</td>\n",
              "      <td>United States</td>\n",
              "      <td>1984.0</td>\n",
              "      <td>1941.0</td>\n",
              "      <td>1945.0</td>\n",
              "      <td>0.0</td>\n",
              "      <td>Active</td>\n",
              "      <td>2</td>\n",
              "      <td>6.90</td>\n",
              "      <td>10.80</td>\n",
              "      <td>2.00</td>\n",
              "      <td>16.80</td>\n",
              "      <td>148.0</td>\n",
              "    </tr>\n",
              "    <tr>\n",
              "      <th>Reconnaissance Aircraft</th>\n",
              "      <td>Ki-4</td>\n",
              "      <td>Nakajima Aircraft Company</td>\n",
              "      <td>Japan</td>\n",
              "      <td>516.0</td>\n",
              "      <td>1934.0</td>\n",
              "      <td>1939.0</td>\n",
              "      <td>1943.0</td>\n",
              "      <td>Retired</td>\n",
              "      <td>2</td>\n",
              "      <td>7.73</td>\n",
              "      <td>12.00</td>\n",
              "      <td>3.50</td>\n",
              "      <td>29.70</td>\n",
              "      <td>153.0</td>\n",
              "    </tr>\n",
              "    <tr>\n",
              "      <th>Reconnaissance Aircraft</th>\n",
              "      <td>Fi 156 Storch</td>\n",
              "      <td>Gerhard Fieseler Werke</td>\n",
              "      <td>Germany</td>\n",
              "      <td>2900.0</td>\n",
              "      <td>1937.0</td>\n",
              "      <td>1965.0</td>\n",
              "      <td>1970.0</td>\n",
              "      <td>Retired</td>\n",
              "      <td>2</td>\n",
              "      <td>9.91</td>\n",
              "      <td>14.25</td>\n",
              "      <td>3.05</td>\n",
              "      <td>26.00</td>\n",
              "      <td>175.0</td>\n",
              "    </tr>\n",
              "    <tr>\n",
              "      <th>...</th>\n",
              "      <td>...</td>\n",
              "      <td>...</td>\n",
              "      <td>...</td>\n",
              "      <td>...</td>\n",
              "      <td>...</td>\n",
              "      <td>...</td>\n",
              "      <td>...</td>\n",
              "      <td>...</td>\n",
              "      <td>...</td>\n",
              "      <td>...</td>\n",
              "      <td>...</td>\n",
              "      <td>...</td>\n",
              "      <td>...</td>\n",
              "      <td>...</td>\n",
              "    </tr>\n",
              "    <tr>\n",
              "      <th>Jet Fighter</th>\n",
              "      <td>Me 163 Komet</td>\n",
              "      <td>Messerschmitt AG</td>\n",
              "      <td>Germany</td>\n",
              "      <td>370.0</td>\n",
              "      <td>1944.0</td>\n",
              "      <td>1945.0</td>\n",
              "      <td>1945.0</td>\n",
              "      <td>Retired</td>\n",
              "      <td>1</td>\n",
              "      <td>5.70</td>\n",
              "      <td>9.30</td>\n",
              "      <td>2.50</td>\n",
              "      <td>19.60</td>\n",
              "      <td>900.0</td>\n",
              "    </tr>\n",
              "    <tr>\n",
              "      <th>Jet Fighter</th>\n",
              "      <td>Me 262 Schwalbe</td>\n",
              "      <td>Messerschmitt AG</td>\n",
              "      <td>Germany</td>\n",
              "      <td>1433.0</td>\n",
              "      <td>1944.0</td>\n",
              "      <td>1945.0</td>\n",
              "      <td>1951.0</td>\n",
              "      <td>Retired</td>\n",
              "      <td>1</td>\n",
              "      <td>10.60</td>\n",
              "      <td>12.60</td>\n",
              "      <td>3.50</td>\n",
              "      <td>21.70</td>\n",
              "      <td>900.0</td>\n",
              "    </tr>\n",
              "    <tr>\n",
              "      <th>Jet Fighter</th>\n",
              "      <td>He 162 Volksjger</td>\n",
              "      <td>Heinkel Flugzeugwerke</td>\n",
              "      <td>Germany</td>\n",
              "      <td>320.0</td>\n",
              "      <td>1945.0</td>\n",
              "      <td>1945.0</td>\n",
              "      <td>1945.0</td>\n",
              "      <td>Retired</td>\n",
              "      <td>1</td>\n",
              "      <td>9.05</td>\n",
              "      <td>7.20</td>\n",
              "      <td>2.60</td>\n",
              "      <td>11.16</td>\n",
              "      <td>905.0</td>\n",
              "    </tr>\n",
              "    <tr>\n",
              "      <th>Jet Fighter</th>\n",
              "      <td>P-80 Shooting Star</td>\n",
              "      <td>Lockheed Corporation</td>\n",
              "      <td>United States</td>\n",
              "      <td>1715.0</td>\n",
              "      <td>1945.0</td>\n",
              "      <td>1950.0</td>\n",
              "      <td>1974.0</td>\n",
              "      <td>Retired</td>\n",
              "      <td>1</td>\n",
              "      <td>10.49</td>\n",
              "      <td>11.81</td>\n",
              "      <td>3.43</td>\n",
              "      <td>22.07</td>\n",
              "      <td>956.0</td>\n",
              "    </tr>\n",
              "    <tr>\n",
              "      <th>Jet Fighter</th>\n",
              "      <td>Meteor</td>\n",
              "      <td>Gloster Aircraft Ltd</td>\n",
              "      <td>United Kingdom</td>\n",
              "      <td>3947.0</td>\n",
              "      <td>1944.0</td>\n",
              "      <td>1955.0</td>\n",
              "      <td>1980.0</td>\n",
              "      <td>Retired</td>\n",
              "      <td>1</td>\n",
              "      <td>13.59</td>\n",
              "      <td>11.33</td>\n",
              "      <td>3.96</td>\n",
              "      <td>33.00</td>\n",
              "      <td>970.0</td>\n",
              "    </tr>\n",
              "  </tbody>\n",
              "</table>\n",
              "<p>337 rows × 14 columns</p>\n",
              "</div>\n",
              "      <button class=\"colab-df-convert\" onclick=\"convertToInteractive('df-fe83a81d-b83e-4ff2-97b6-b3cc918ea421')\"\n",
              "              title=\"Convert this dataframe to an interactive table.\"\n",
              "              style=\"display:none;\">\n",
              "        \n",
              "  <svg xmlns=\"http://www.w3.org/2000/svg\" height=\"24px\"viewBox=\"0 0 24 24\"\n",
              "       width=\"24px\">\n",
              "    <path d=\"M0 0h24v24H0V0z\" fill=\"none\"/>\n",
              "    <path d=\"M18.56 5.44l.94 2.06.94-2.06 2.06-.94-2.06-.94-.94-2.06-.94 2.06-2.06.94zm-11 1L8.5 8.5l.94-2.06 2.06-.94-2.06-.94L8.5 2.5l-.94 2.06-2.06.94zm10 10l.94 2.06.94-2.06 2.06-.94-2.06-.94-.94-2.06-.94 2.06-2.06.94z\"/><path d=\"M17.41 7.96l-1.37-1.37c-.4-.4-.92-.59-1.43-.59-.52 0-1.04.2-1.43.59L10.3 9.45l-7.72 7.72c-.78.78-.78 2.05 0 2.83L4 21.41c.39.39.9.59 1.41.59.51 0 1.02-.2 1.41-.59l7.78-7.78 2.81-2.81c.8-.78.8-2.07 0-2.86zM5.41 20L4 18.59l7.72-7.72 1.47 1.35L5.41 20z\"/>\n",
              "  </svg>\n",
              "      </button>\n",
              "      \n",
              "  <style>\n",
              "    .colab-df-container {\n",
              "      display:flex;\n",
              "      flex-wrap:wrap;\n",
              "      gap: 12px;\n",
              "    }\n",
              "\n",
              "    .colab-df-convert {\n",
              "      background-color: #E8F0FE;\n",
              "      border: none;\n",
              "      border-radius: 50%;\n",
              "      cursor: pointer;\n",
              "      display: none;\n",
              "      fill: #1967D2;\n",
              "      height: 32px;\n",
              "      padding: 0 0 0 0;\n",
              "      width: 32px;\n",
              "    }\n",
              "\n",
              "    .colab-df-convert:hover {\n",
              "      background-color: #E2EBFA;\n",
              "      box-shadow: 0px 1px 2px rgba(60, 64, 67, 0.3), 0px 1px 3px 1px rgba(60, 64, 67, 0.15);\n",
              "      fill: #174EA6;\n",
              "    }\n",
              "\n",
              "    [theme=dark] .colab-df-convert {\n",
              "      background-color: #3B4455;\n",
              "      fill: #D2E3FC;\n",
              "    }\n",
              "\n",
              "    [theme=dark] .colab-df-convert:hover {\n",
              "      background-color: #434B5C;\n",
              "      box-shadow: 0px 1px 3px 1px rgba(0, 0, 0, 0.15);\n",
              "      filter: drop-shadow(0px 1px 2px rgba(0, 0, 0, 0.3));\n",
              "      fill: #FFFFFF;\n",
              "    }\n",
              "  </style>\n",
              "\n",
              "      <script>\n",
              "        const buttonEl =\n",
              "          document.querySelector('#df-fe83a81d-b83e-4ff2-97b6-b3cc918ea421 button.colab-df-convert');\n",
              "        buttonEl.style.display =\n",
              "          google.colab.kernel.accessAllowed ? 'block' : 'none';\n",
              "\n",
              "        async function convertToInteractive(key) {\n",
              "          const element = document.querySelector('#df-fe83a81d-b83e-4ff2-97b6-b3cc918ea421');\n",
              "          const dataTable =\n",
              "            await google.colab.kernel.invokeFunction('convertToInteractive',\n",
              "                                                     [key], {});\n",
              "          if (!dataTable) return;\n",
              "\n",
              "          const docLinkHtml = 'Like what you see? Visit the ' +\n",
              "            '<a target=\"_blank\" href=https://colab.research.google.com/notebooks/data_table.ipynb>data table notebook</a>'\n",
              "            + ' to learn more about interactive tables.';\n",
              "          element.innerHTML = '';\n",
              "          dataTable['output_type'] = 'display_data';\n",
              "          await google.colab.output.renderOutput(dataTable, element);\n",
              "          const docLink = document.createElement('div');\n",
              "          docLink.innerHTML = docLinkHtml;\n",
              "          element.appendChild(docLink);\n",
              "        }\n",
              "      </script>\n",
              "    </div>\n",
              "  </div>\n",
              "  "
            ]
          },
          "metadata": {},
          "execution_count": 15
        }
      ]
    },
    {
      "cell_type": "code",
      "source": [
        "asd = PR.xs('Assault Drone')\n",
        "tra = PR.xs('Transport')\n",
        "pat = PR.xs('Patrol Airship')\n",
        "pro = PR.xs('Prototype Aircraft')\n",
        "fig = PR.xs('Fighter')"
      ],
      "metadata": {
        "id": "6qf-ohlbabUg"
      },
      "execution_count": null,
      "outputs": []
    },
    {
      "cell_type": "code",
      "source": [
        "tra_wingspan_mean = tra['Wingspan'].mean()\n",
        "\n",
        "values = {tra_wingspan_mean: (df['PrimaryRole'] == 'Transport') & df['Wingspan'].isnull()}\n",
        "for replacement_value, value in values.items():\n",
        "  df.loc[value, 'Wingspan'] = replacement_value"
      ],
      "metadata": {
        "id": "fnIlFZBVbyDk"
      },
      "execution_count": null,
      "outputs": []
    },
    {
      "cell_type": "code",
      "source": [
        "asd_length_mean = asd['Length'].mean()\n",
        "tra_length_mean = tra['Length'].mean()\n",
        "\n",
        "values = {asd_length_mean: (df['PrimaryRole'] == 'Assault Drone') & df['Length'].isnull(), tra_length_mean: (df['PrimaryRole'] == 'Transport') & df['Length'].isnull()}\n",
        "for replacement_value, value in values.items():\n",
        "  df.loc[value, 'Length'] = replacement_value"
      ],
      "metadata": {
        "id": "IVgU0T2qb-4Q"
      },
      "execution_count": null,
      "outputs": []
    },
    {
      "cell_type": "code",
      "source": [
        "#asd_height_mean = asd['Height'].mean()\n",
        "#pat_height_mean = pat['Height'].mean()\n",
        "pro_height_mean = pro['Height'].mean()\n",
        "tra_height_mean = tra['Height'].mean()\n",
        "asd_height_mean = 4.45\n",
        "pat_height_mean = df['Height'].mean()\n",
        "\n",
        "values = {asd_height_mean: (df['PrimaryRole'] == 'Assault Drone') & df['Height'].isna(), tra_height_mean: (df['PrimaryRole'] == 'Transport') & df['Height'].isnull(), pat_height_mean: (df['PrimaryRole'] == 'Patrol Airship') & df['Height'].isna(), pro_height_mean: (df['PrimaryRole'] == 'Prototype Aircraft') & df['Height'].isnull() }\n",
        "for replacement_value, value in values.items():\n",
        "  df.loc[value, 'Height'] = replacement_value\n",
        "\n",
        "df['Height'].mean()"
      ],
      "metadata": {
        "colab": {
          "base_uri": "https://localhost:8080/"
        },
        "id": "Pc57WxF7cDV1",
        "outputId": "42e214a1-4e14-4cc2-bac0-b89508f3b7c8"
      },
      "execution_count": null,
      "outputs": [
        {
          "output_type": "execute_result",
          "data": {
            "text/plain": [
              "4.457251280663136"
            ]
          },
          "metadata": {},
          "execution_count": 19
        }
      ]
    },
    {
      "cell_type": "code",
      "source": [
        "#asd_wingarea_mean = asd['WingArea'].mean()\n",
        "fig_wingarea_mean = fig['WingArea'].mean()\n",
        "#pat_wingarea_mean = pat['WingArea'].mean()\n",
        "pro_wingarea_mean = pro['WingArea'].mean()\n",
        "tra_wingarea_mean = tra['WingArea'].mean()\n",
        "asd_wingarea_mean = 52.07\n",
        "pat_wingarea_mean = df['WingArea'].mean()\n",
        "\n",
        "values = {asd_wingarea_mean: (df['PrimaryRole'] == 'Assault Drone') & df['WingArea'].isna(), fig_wingarea_mean: (df['PrimaryRole'] == 'Fighter') & df['WingArea'].isnull(), pat_wingarea_mean: (df['PrimaryRole'] == 'Patrol Airship') & df['WingArea'].isnull(), pro_wingarea_mean: (df['PrimaryRole'] == 'Prototype Aircraft') & df['WingArea'].isnull(), tra_wingarea_mean: (df['PrimaryRole'] == 'Transport') & df['WingArea'].isnull()}\n",
        "for replacement_value, value in values.items():\n",
        "  df.loc[value, 'WingArea'] = replacement_value\n",
        "\n",
        "df['WingArea'].mean()"
      ],
      "metadata": {
        "colab": {
          "base_uri": "https://localhost:8080/"
        },
        "id": "IXq9xk20ceDk",
        "outputId": "d6fddcb4-bcc1-4101-9182-d9e90c8c9ea7"
      },
      "execution_count": null,
      "outputs": [
        {
          "output_type": "execute_result",
          "data": {
            "text/plain": [
              "52.073349272685775"
            ]
          },
          "metadata": {},
          "execution_count": 20
        }
      ]
    },
    {
      "cell_type": "code",
      "source": [
        "df.to_csv(r'ww2_preprocessed.csv', index = False)"
      ],
      "metadata": {
        "id": "DYQhcaSTrQpI"
      },
      "execution_count": null,
      "outputs": []
    },
    {
      "cell_type": "code",
      "source": [
        "df.isnull().sum()"
      ],
      "metadata": {
        "colab": {
          "base_uri": "https://localhost:8080/"
        },
        "id": "T72YVZVFhc3o",
        "outputId": "a084c12c-39c8-487c-d425-f74ecbe41587"
      },
      "execution_count": null,
      "outputs": [
        {
          "output_type": "execute_result",
          "data": {
            "text/plain": [
              "Name            0\n",
              "PrimaryRole     0\n",
              "Manufacturer    0\n",
              "Country         0\n",
              "Number          0\n",
              "ActiveSince     0\n",
              "LastBuilt       0\n",
              "Retired         0\n",
              "State           0\n",
              "Crew            0\n",
              "Length          0\n",
              "Wingspan        0\n",
              "Height          0\n",
              "WingArea        0\n",
              "MaxSpeed        0\n",
              "dtype: int64"
            ]
          },
          "metadata": {},
          "execution_count": 22
        }
      ]
    },
    {
      "cell_type": "code",
      "source": [
        "df.describe()"
      ],
      "metadata": {
        "colab": {
          "base_uri": "https://localhost:8080/",
          "height": 300
        },
        "id": "YnT15PuRCalj",
        "outputId": "90b46dab-8450-40a0-93bd-1f3d5f747e47"
      },
      "execution_count": null,
      "outputs": [
        {
          "output_type": "execute_result",
          "data": {
            "text/plain": [
              "             Number  ActiveSince    LastBuilt      Retired        Crew  \\\n",
              "count    337.000000   337.000000   337.000000   337.000000  337.000000   \n",
              "mean    2362.575668  1939.065282  1943.646884  1792.706231    2.884273   \n",
              "std     4611.239507     3.775139     5.603193   529.924989    2.424139   \n",
              "min        1.000000  1924.000000  1932.000000     0.000000    1.000000   \n",
              "25%      134.000000  1937.000000  1941.000000  1944.000000    1.000000   \n",
              "50%      541.000000  1940.000000  1944.000000  1945.000000    2.000000   \n",
              "75%     1931.000000  1942.000000  1945.000000  1951.000000    4.000000   \n",
              "max    36163.000000  1945.000000  2009.000000  1995.000000   14.000000   \n",
              "\n",
              "           Length    Wingspan      Height    WingArea    MaxSpeed  \n",
              "count  337.000000  337.000000  337.000000  337.000000  337.000000  \n",
              "mean    14.481421   18.391666    4.457251   52.073349  438.295846  \n",
              "std     14.010571   15.547236    2.991663   53.299343  159.544102  \n",
              "min      1.239000    1.199000    1.160000    3.600000  125.000000  \n",
              "25%      8.810000   11.000000    3.250000   21.920000  317.000000  \n",
              "50%     11.000000   14.630000    3.910000   33.000000  430.000000  \n",
              "75%     15.300000   21.100000    4.791000   59.000000  547.000000  \n",
              "max    132.906000  164.021000   32.068000  486.200000  970.000000  "
            ],
            "text/html": [
              "\n",
              "  <div id=\"df-67b5f4d7-7ea3-42b3-a6bf-b363733ee525\">\n",
              "    <div class=\"colab-df-container\">\n",
              "      <div>\n",
              "<style scoped>\n",
              "    .dataframe tbody tr th:only-of-type {\n",
              "        vertical-align: middle;\n",
              "    }\n",
              "\n",
              "    .dataframe tbody tr th {\n",
              "        vertical-align: top;\n",
              "    }\n",
              "\n",
              "    .dataframe thead th {\n",
              "        text-align: right;\n",
              "    }\n",
              "</style>\n",
              "<table border=\"1\" class=\"dataframe\">\n",
              "  <thead>\n",
              "    <tr style=\"text-align: right;\">\n",
              "      <th></th>\n",
              "      <th>Number</th>\n",
              "      <th>ActiveSince</th>\n",
              "      <th>LastBuilt</th>\n",
              "      <th>Retired</th>\n",
              "      <th>Crew</th>\n",
              "      <th>Length</th>\n",
              "      <th>Wingspan</th>\n",
              "      <th>Height</th>\n",
              "      <th>WingArea</th>\n",
              "      <th>MaxSpeed</th>\n",
              "    </tr>\n",
              "  </thead>\n",
              "  <tbody>\n",
              "    <tr>\n",
              "      <th>count</th>\n",
              "      <td>337.000000</td>\n",
              "      <td>337.000000</td>\n",
              "      <td>337.000000</td>\n",
              "      <td>337.000000</td>\n",
              "      <td>337.000000</td>\n",
              "      <td>337.000000</td>\n",
              "      <td>337.000000</td>\n",
              "      <td>337.000000</td>\n",
              "      <td>337.000000</td>\n",
              "      <td>337.000000</td>\n",
              "    </tr>\n",
              "    <tr>\n",
              "      <th>mean</th>\n",
              "      <td>2362.575668</td>\n",
              "      <td>1939.065282</td>\n",
              "      <td>1943.646884</td>\n",
              "      <td>1792.706231</td>\n",
              "      <td>2.884273</td>\n",
              "      <td>14.481421</td>\n",
              "      <td>18.391666</td>\n",
              "      <td>4.457251</td>\n",
              "      <td>52.073349</td>\n",
              "      <td>438.295846</td>\n",
              "    </tr>\n",
              "    <tr>\n",
              "      <th>std</th>\n",
              "      <td>4611.239507</td>\n",
              "      <td>3.775139</td>\n",
              "      <td>5.603193</td>\n",
              "      <td>529.924989</td>\n",
              "      <td>2.424139</td>\n",
              "      <td>14.010571</td>\n",
              "      <td>15.547236</td>\n",
              "      <td>2.991663</td>\n",
              "      <td>53.299343</td>\n",
              "      <td>159.544102</td>\n",
              "    </tr>\n",
              "    <tr>\n",
              "      <th>min</th>\n",
              "      <td>1.000000</td>\n",
              "      <td>1924.000000</td>\n",
              "      <td>1932.000000</td>\n",
              "      <td>0.000000</td>\n",
              "      <td>1.000000</td>\n",
              "      <td>1.239000</td>\n",
              "      <td>1.199000</td>\n",
              "      <td>1.160000</td>\n",
              "      <td>3.600000</td>\n",
              "      <td>125.000000</td>\n",
              "    </tr>\n",
              "    <tr>\n",
              "      <th>25%</th>\n",
              "      <td>134.000000</td>\n",
              "      <td>1937.000000</td>\n",
              "      <td>1941.000000</td>\n",
              "      <td>1944.000000</td>\n",
              "      <td>1.000000</td>\n",
              "      <td>8.810000</td>\n",
              "      <td>11.000000</td>\n",
              "      <td>3.250000</td>\n",
              "      <td>21.920000</td>\n",
              "      <td>317.000000</td>\n",
              "    </tr>\n",
              "    <tr>\n",
              "      <th>50%</th>\n",
              "      <td>541.000000</td>\n",
              "      <td>1940.000000</td>\n",
              "      <td>1944.000000</td>\n",
              "      <td>1945.000000</td>\n",
              "      <td>2.000000</td>\n",
              "      <td>11.000000</td>\n",
              "      <td>14.630000</td>\n",
              "      <td>3.910000</td>\n",
              "      <td>33.000000</td>\n",
              "      <td>430.000000</td>\n",
              "    </tr>\n",
              "    <tr>\n",
              "      <th>75%</th>\n",
              "      <td>1931.000000</td>\n",
              "      <td>1942.000000</td>\n",
              "      <td>1945.000000</td>\n",
              "      <td>1951.000000</td>\n",
              "      <td>4.000000</td>\n",
              "      <td>15.300000</td>\n",
              "      <td>21.100000</td>\n",
              "      <td>4.791000</td>\n",
              "      <td>59.000000</td>\n",
              "      <td>547.000000</td>\n",
              "    </tr>\n",
              "    <tr>\n",
              "      <th>max</th>\n",
              "      <td>36163.000000</td>\n",
              "      <td>1945.000000</td>\n",
              "      <td>2009.000000</td>\n",
              "      <td>1995.000000</td>\n",
              "      <td>14.000000</td>\n",
              "      <td>132.906000</td>\n",
              "      <td>164.021000</td>\n",
              "      <td>32.068000</td>\n",
              "      <td>486.200000</td>\n",
              "      <td>970.000000</td>\n",
              "    </tr>\n",
              "  </tbody>\n",
              "</table>\n",
              "</div>\n",
              "      <button class=\"colab-df-convert\" onclick=\"convertToInteractive('df-67b5f4d7-7ea3-42b3-a6bf-b363733ee525')\"\n",
              "              title=\"Convert this dataframe to an interactive table.\"\n",
              "              style=\"display:none;\">\n",
              "        \n",
              "  <svg xmlns=\"http://www.w3.org/2000/svg\" height=\"24px\"viewBox=\"0 0 24 24\"\n",
              "       width=\"24px\">\n",
              "    <path d=\"M0 0h24v24H0V0z\" fill=\"none\"/>\n",
              "    <path d=\"M18.56 5.44l.94 2.06.94-2.06 2.06-.94-2.06-.94-.94-2.06-.94 2.06-2.06.94zm-11 1L8.5 8.5l.94-2.06 2.06-.94-2.06-.94L8.5 2.5l-.94 2.06-2.06.94zm10 10l.94 2.06.94-2.06 2.06-.94-2.06-.94-.94-2.06-.94 2.06-2.06.94z\"/><path d=\"M17.41 7.96l-1.37-1.37c-.4-.4-.92-.59-1.43-.59-.52 0-1.04.2-1.43.59L10.3 9.45l-7.72 7.72c-.78.78-.78 2.05 0 2.83L4 21.41c.39.39.9.59 1.41.59.51 0 1.02-.2 1.41-.59l7.78-7.78 2.81-2.81c.8-.78.8-2.07 0-2.86zM5.41 20L4 18.59l7.72-7.72 1.47 1.35L5.41 20z\"/>\n",
              "  </svg>\n",
              "      </button>\n",
              "      \n",
              "  <style>\n",
              "    .colab-df-container {\n",
              "      display:flex;\n",
              "      flex-wrap:wrap;\n",
              "      gap: 12px;\n",
              "    }\n",
              "\n",
              "    .colab-df-convert {\n",
              "      background-color: #E8F0FE;\n",
              "      border: none;\n",
              "      border-radius: 50%;\n",
              "      cursor: pointer;\n",
              "      display: none;\n",
              "      fill: #1967D2;\n",
              "      height: 32px;\n",
              "      padding: 0 0 0 0;\n",
              "      width: 32px;\n",
              "    }\n",
              "\n",
              "    .colab-df-convert:hover {\n",
              "      background-color: #E2EBFA;\n",
              "      box-shadow: 0px 1px 2px rgba(60, 64, 67, 0.3), 0px 1px 3px 1px rgba(60, 64, 67, 0.15);\n",
              "      fill: #174EA6;\n",
              "    }\n",
              "\n",
              "    [theme=dark] .colab-df-convert {\n",
              "      background-color: #3B4455;\n",
              "      fill: #D2E3FC;\n",
              "    }\n",
              "\n",
              "    [theme=dark] .colab-df-convert:hover {\n",
              "      background-color: #434B5C;\n",
              "      box-shadow: 0px 1px 3px 1px rgba(0, 0, 0, 0.15);\n",
              "      filter: drop-shadow(0px 1px 2px rgba(0, 0, 0, 0.3));\n",
              "      fill: #FFFFFF;\n",
              "    }\n",
              "  </style>\n",
              "\n",
              "      <script>\n",
              "        const buttonEl =\n",
              "          document.querySelector('#df-67b5f4d7-7ea3-42b3-a6bf-b363733ee525 button.colab-df-convert');\n",
              "        buttonEl.style.display =\n",
              "          google.colab.kernel.accessAllowed ? 'block' : 'none';\n",
              "\n",
              "        async function convertToInteractive(key) {\n",
              "          const element = document.querySelector('#df-67b5f4d7-7ea3-42b3-a6bf-b363733ee525');\n",
              "          const dataTable =\n",
              "            await google.colab.kernel.invokeFunction('convertToInteractive',\n",
              "                                                     [key], {});\n",
              "          if (!dataTable) return;\n",
              "\n",
              "          const docLinkHtml = 'Like what you see? Visit the ' +\n",
              "            '<a target=\"_blank\" href=https://colab.research.google.com/notebooks/data_table.ipynb>data table notebook</a>'\n",
              "            + ' to learn more about interactive tables.';\n",
              "          element.innerHTML = '';\n",
              "          dataTable['output_type'] = 'display_data';\n",
              "          await google.colab.output.renderOutput(dataTable, element);\n",
              "          const docLink = document.createElement('div');\n",
              "          docLink.innerHTML = docLinkHtml;\n",
              "          element.appendChild(docLink);\n",
              "        }\n",
              "      </script>\n",
              "    </div>\n",
              "  </div>\n",
              "  "
            ]
          },
          "metadata": {},
          "execution_count": 23
        }
      ]
    },
    {
      "cell_type": "code",
      "source": [
        "df['Country'].unique()"
      ],
      "metadata": {
        "colab": {
          "base_uri": "https://localhost:8080/"
        },
        "id": "dcJeQiwrCfMa",
        "outputId": "c556bd52-dcc2-4576-b19d-e7b2364b375a"
      },
      "execution_count": null,
      "outputs": [
        {
          "output_type": "execute_result",
          "data": {
            "text/plain": [
              "array(['United States', 'Japan', 'Germany', 'France', 'Italy', 'Russia',\n",
              "       'United Kingdom', 'Canada', 'Poland', 'China', 'Australia',\n",
              "       'Czechoslovakia', 'Netherlands', 'Romania', 'Yugoslavia'],\n",
              "      dtype=object)"
            ]
          },
          "metadata": {},
          "execution_count": 24
        }
      ]
    },
    {
      "cell_type": "code",
      "source": [
        "len(df['Country'].unique())"
      ],
      "metadata": {
        "colab": {
          "base_uri": "https://localhost:8080/"
        },
        "id": "OAMYPj8fCi2g",
        "outputId": "3423fb04-d3ed-4e59-cdf3-bbc3d2b69a05"
      },
      "execution_count": null,
      "outputs": [
        {
          "output_type": "execute_result",
          "data": {
            "text/plain": [
              "15"
            ]
          },
          "metadata": {},
          "execution_count": 25
        }
      ]
    },
    {
      "cell_type": "code",
      "source": [
        "df['PrimaryRole'].unique()"
      ],
      "metadata": {
        "colab": {
          "base_uri": "https://localhost:8080/"
        },
        "id": "mxabdFswC5Cm",
        "outputId": "ce3c14fa-8c82-4671-c7ae-34aa611132ae"
      },
      "execution_count": null,
      "outputs": [
        {
          "output_type": "execute_result",
          "data": {
            "text/plain": [
              "array(['Patrol Airship', 'Reconnaissance Aircraft', 'Trainer Aircraft',\n",
              "       'Light Bomber', 'Seaplane', 'Light Observation', 'Heavy Bomber',\n",
              "       'Other', 'Prototype Aircraft', 'Torpedo Bomber', 'Medium Bomber',\n",
              "       'Assault Drone', 'Transport', 'Glider', 'Short-Haul Airliner',\n",
              "       'Fighter', 'Sport Aircraft', 'Ground Attack Aircraft',\n",
              "       'Liaison Aircraft', 'Heavy Fighter', 'Biplane Fighter',\n",
              "       'Dive Bomber', 'Night Fighter', 'Jet Fighter'], dtype=object)"
            ]
          },
          "metadata": {},
          "execution_count": 26
        }
      ]
    },
    {
      "cell_type": "code",
      "source": [
        "len(df['PrimaryRole'].unique())"
      ],
      "metadata": {
        "colab": {
          "base_uri": "https://localhost:8080/"
        },
        "id": "t53j64BQDA20",
        "outputId": "92ca1862-c9c0-4b54-dae5-9844bb2228b3"
      },
      "execution_count": null,
      "outputs": [
        {
          "output_type": "execute_result",
          "data": {
            "text/plain": [
              "24"
            ]
          },
          "metadata": {},
          "execution_count": 27
        }
      ]
    },
    {
      "cell_type": "code",
      "source": [
        "df.info()"
      ],
      "metadata": {
        "colab": {
          "base_uri": "https://localhost:8080/"
        },
        "id": "s1RgFFwhENYO",
        "outputId": "4866f5a4-1e04-490d-dc95-20399c3dce99"
      },
      "execution_count": null,
      "outputs": [
        {
          "output_type": "stream",
          "name": "stdout",
          "text": [
            "<class 'pandas.core.frame.DataFrame'>\n",
            "Int64Index: 337 entries, 0 to 337\n",
            "Data columns (total 15 columns):\n",
            " #   Column        Non-Null Count  Dtype  \n",
            "---  ------        --------------  -----  \n",
            " 0   Name          337 non-null    object \n",
            " 1   PrimaryRole   337 non-null    object \n",
            " 2   Manufacturer  337 non-null    object \n",
            " 3   Country       337 non-null    object \n",
            " 4   Number        337 non-null    float64\n",
            " 5   ActiveSince   337 non-null    float64\n",
            " 6   LastBuilt     337 non-null    float64\n",
            " 7   Retired       337 non-null    float64\n",
            " 8   State         337 non-null    object \n",
            " 9   Crew          337 non-null    int64  \n",
            " 10  Length        337 non-null    float64\n",
            " 11  Wingspan      337 non-null    float64\n",
            " 12  Height        337 non-null    float64\n",
            " 13  WingArea      337 non-null    float64\n",
            " 14  MaxSpeed      337 non-null    float64\n",
            "dtypes: float64(9), int64(1), object(5)\n",
            "memory usage: 42.1+ KB\n"
          ]
        }
      ]
    },
    {
      "cell_type": "code",
      "source": [
        "C_df = df.copy()\n",
        "C_df.drop(['Name','PrimaryRole', 'Manufacturer', 'Number', 'State', 'Crew'], axis=1, inplace=True)"
      ],
      "metadata": {
        "id": "6ZKzTkLEICyI"
      },
      "execution_count": null,
      "outputs": []
    },
    {
      "cell_type": "code",
      "source": [
        "x = C_df\n",
        "y = C_df['Country']"
      ],
      "metadata": {
        "id": "rlsxa64dQFGt"
      },
      "execution_count": null,
      "outputs": []
    },
    {
      "cell_type": "code",
      "source": [
        "from sklearn.preprocessing import LabelEncoder\n",
        "le = LabelEncoder()\n",
        "x['Country'] = le.fit_transform(x['Country'])\n",
        "y = le.transform(y)"
      ],
      "metadata": {
        "id": "u4yibbAtQJ9I"
      },
      "execution_count": null,
      "outputs": []
    },
    {
      "cell_type": "code",
      "source": [
        "x.info()"
      ],
      "metadata": {
        "colab": {
          "base_uri": "https://localhost:8080/"
        },
        "id": "tocA_ZSgQPCq",
        "outputId": "b3e6916c-50eb-4ac9-8fca-c00b4f0e3bc8"
      },
      "execution_count": null,
      "outputs": [
        {
          "output_type": "stream",
          "name": "stdout",
          "text": [
            "<class 'pandas.core.frame.DataFrame'>\n",
            "Int64Index: 337 entries, 0 to 337\n",
            "Data columns (total 9 columns):\n",
            " #   Column       Non-Null Count  Dtype  \n",
            "---  ------       --------------  -----  \n",
            " 0   Country      337 non-null    int64  \n",
            " 1   ActiveSince  337 non-null    float64\n",
            " 2   LastBuilt    337 non-null    float64\n",
            " 3   Retired      337 non-null    float64\n",
            " 4   Length       337 non-null    float64\n",
            " 5   Wingspan     337 non-null    float64\n",
            " 6   Height       337 non-null    float64\n",
            " 7   WingArea     337 non-null    float64\n",
            " 8   MaxSpeed     337 non-null    float64\n",
            "dtypes: float64(8), int64(1)\n",
            "memory usage: 26.3 KB\n"
          ]
        }
      ]
    },
    {
      "cell_type": "code",
      "source": [
        "x.head()"
      ],
      "metadata": {
        "colab": {
          "base_uri": "https://localhost:8080/",
          "height": 206
        },
        "id": "cBzU0Z5nQRl-",
        "outputId": "65be7699-3225-4b44-be21-d8775787939f"
      },
      "execution_count": null,
      "outputs": [
        {
          "output_type": "execute_result",
          "data": {
            "text/plain": [
              "   Country  ActiveSince  LastBuilt  Retired  Length  Wingspan    Height  \\\n",
              "0       13       1938.0     1954.0   1959.0   76.73     17.63  4.446753   \n",
              "1       13       1938.0     1947.0      0.0    6.83     10.74  2.030000   \n",
              "2       13       1941.0     1945.0      0.0    6.90     10.80  2.000000   \n",
              "3        7       1934.0     1939.0   1943.0    7.73     12.00  3.500000   \n",
              "4        5       1937.0     1965.0   1970.0    9.91     14.25  3.050000   \n",
              "\n",
              "    WingArea  MaxSpeed  \n",
              "0  52.144548     125.0  \n",
              "1  16.580000     140.0  \n",
              "2  16.800000     148.0  \n",
              "3  29.700000     153.0  \n",
              "4  26.000000     175.0  "
            ],
            "text/html": [
              "\n",
              "  <div id=\"df-57850ee8-6bb5-4d2d-87d1-9348f081a5da\">\n",
              "    <div class=\"colab-df-container\">\n",
              "      <div>\n",
              "<style scoped>\n",
              "    .dataframe tbody tr th:only-of-type {\n",
              "        vertical-align: middle;\n",
              "    }\n",
              "\n",
              "    .dataframe tbody tr th {\n",
              "        vertical-align: top;\n",
              "    }\n",
              "\n",
              "    .dataframe thead th {\n",
              "        text-align: right;\n",
              "    }\n",
              "</style>\n",
              "<table border=\"1\" class=\"dataframe\">\n",
              "  <thead>\n",
              "    <tr style=\"text-align: right;\">\n",
              "      <th></th>\n",
              "      <th>Country</th>\n",
              "      <th>ActiveSince</th>\n",
              "      <th>LastBuilt</th>\n",
              "      <th>Retired</th>\n",
              "      <th>Length</th>\n",
              "      <th>Wingspan</th>\n",
              "      <th>Height</th>\n",
              "      <th>WingArea</th>\n",
              "      <th>MaxSpeed</th>\n",
              "    </tr>\n",
              "  </thead>\n",
              "  <tbody>\n",
              "    <tr>\n",
              "      <th>0</th>\n",
              "      <td>13</td>\n",
              "      <td>1938.0</td>\n",
              "      <td>1954.0</td>\n",
              "      <td>1959.0</td>\n",
              "      <td>76.73</td>\n",
              "      <td>17.63</td>\n",
              "      <td>4.446753</td>\n",
              "      <td>52.144548</td>\n",
              "      <td>125.0</td>\n",
              "    </tr>\n",
              "    <tr>\n",
              "      <th>1</th>\n",
              "      <td>13</td>\n",
              "      <td>1938.0</td>\n",
              "      <td>1947.0</td>\n",
              "      <td>0.0</td>\n",
              "      <td>6.83</td>\n",
              "      <td>10.74</td>\n",
              "      <td>2.030000</td>\n",
              "      <td>16.580000</td>\n",
              "      <td>140.0</td>\n",
              "    </tr>\n",
              "    <tr>\n",
              "      <th>2</th>\n",
              "      <td>13</td>\n",
              "      <td>1941.0</td>\n",
              "      <td>1945.0</td>\n",
              "      <td>0.0</td>\n",
              "      <td>6.90</td>\n",
              "      <td>10.80</td>\n",
              "      <td>2.000000</td>\n",
              "      <td>16.800000</td>\n",
              "      <td>148.0</td>\n",
              "    </tr>\n",
              "    <tr>\n",
              "      <th>3</th>\n",
              "      <td>7</td>\n",
              "      <td>1934.0</td>\n",
              "      <td>1939.0</td>\n",
              "      <td>1943.0</td>\n",
              "      <td>7.73</td>\n",
              "      <td>12.00</td>\n",
              "      <td>3.500000</td>\n",
              "      <td>29.700000</td>\n",
              "      <td>153.0</td>\n",
              "    </tr>\n",
              "    <tr>\n",
              "      <th>4</th>\n",
              "      <td>5</td>\n",
              "      <td>1937.0</td>\n",
              "      <td>1965.0</td>\n",
              "      <td>1970.0</td>\n",
              "      <td>9.91</td>\n",
              "      <td>14.25</td>\n",
              "      <td>3.050000</td>\n",
              "      <td>26.000000</td>\n",
              "      <td>175.0</td>\n",
              "    </tr>\n",
              "  </tbody>\n",
              "</table>\n",
              "</div>\n",
              "      <button class=\"colab-df-convert\" onclick=\"convertToInteractive('df-57850ee8-6bb5-4d2d-87d1-9348f081a5da')\"\n",
              "              title=\"Convert this dataframe to an interactive table.\"\n",
              "              style=\"display:none;\">\n",
              "        \n",
              "  <svg xmlns=\"http://www.w3.org/2000/svg\" height=\"24px\"viewBox=\"0 0 24 24\"\n",
              "       width=\"24px\">\n",
              "    <path d=\"M0 0h24v24H0V0z\" fill=\"none\"/>\n",
              "    <path d=\"M18.56 5.44l.94 2.06.94-2.06 2.06-.94-2.06-.94-.94-2.06-.94 2.06-2.06.94zm-11 1L8.5 8.5l.94-2.06 2.06-.94-2.06-.94L8.5 2.5l-.94 2.06-2.06.94zm10 10l.94 2.06.94-2.06 2.06-.94-2.06-.94-.94-2.06-.94 2.06-2.06.94z\"/><path d=\"M17.41 7.96l-1.37-1.37c-.4-.4-.92-.59-1.43-.59-.52 0-1.04.2-1.43.59L10.3 9.45l-7.72 7.72c-.78.78-.78 2.05 0 2.83L4 21.41c.39.39.9.59 1.41.59.51 0 1.02-.2 1.41-.59l7.78-7.78 2.81-2.81c.8-.78.8-2.07 0-2.86zM5.41 20L4 18.59l7.72-7.72 1.47 1.35L5.41 20z\"/>\n",
              "  </svg>\n",
              "      </button>\n",
              "      \n",
              "  <style>\n",
              "    .colab-df-container {\n",
              "      display:flex;\n",
              "      flex-wrap:wrap;\n",
              "      gap: 12px;\n",
              "    }\n",
              "\n",
              "    .colab-df-convert {\n",
              "      background-color: #E8F0FE;\n",
              "      border: none;\n",
              "      border-radius: 50%;\n",
              "      cursor: pointer;\n",
              "      display: none;\n",
              "      fill: #1967D2;\n",
              "      height: 32px;\n",
              "      padding: 0 0 0 0;\n",
              "      width: 32px;\n",
              "    }\n",
              "\n",
              "    .colab-df-convert:hover {\n",
              "      background-color: #E2EBFA;\n",
              "      box-shadow: 0px 1px 2px rgba(60, 64, 67, 0.3), 0px 1px 3px 1px rgba(60, 64, 67, 0.15);\n",
              "      fill: #174EA6;\n",
              "    }\n",
              "\n",
              "    [theme=dark] .colab-df-convert {\n",
              "      background-color: #3B4455;\n",
              "      fill: #D2E3FC;\n",
              "    }\n",
              "\n",
              "    [theme=dark] .colab-df-convert:hover {\n",
              "      background-color: #434B5C;\n",
              "      box-shadow: 0px 1px 3px 1px rgba(0, 0, 0, 0.15);\n",
              "      filter: drop-shadow(0px 1px 2px rgba(0, 0, 0, 0.3));\n",
              "      fill: #FFFFFF;\n",
              "    }\n",
              "  </style>\n",
              "\n",
              "      <script>\n",
              "        const buttonEl =\n",
              "          document.querySelector('#df-57850ee8-6bb5-4d2d-87d1-9348f081a5da button.colab-df-convert');\n",
              "        buttonEl.style.display =\n",
              "          google.colab.kernel.accessAllowed ? 'block' : 'none';\n",
              "\n",
              "        async function convertToInteractive(key) {\n",
              "          const element = document.querySelector('#df-57850ee8-6bb5-4d2d-87d1-9348f081a5da');\n",
              "          const dataTable =\n",
              "            await google.colab.kernel.invokeFunction('convertToInteractive',\n",
              "                                                     [key], {});\n",
              "          if (!dataTable) return;\n",
              "\n",
              "          const docLinkHtml = 'Like what you see? Visit the ' +\n",
              "            '<a target=\"_blank\" href=https://colab.research.google.com/notebooks/data_table.ipynb>data table notebook</a>'\n",
              "            + ' to learn more about interactive tables.';\n",
              "          element.innerHTML = '';\n",
              "          dataTable['output_type'] = 'display_data';\n",
              "          await google.colab.output.renderOutput(dataTable, element);\n",
              "          const docLink = document.createElement('div');\n",
              "          docLink.innerHTML = docLinkHtml;\n",
              "          element.appendChild(docLink);\n",
              "        }\n",
              "      </script>\n",
              "    </div>\n",
              "  </div>\n",
              "  "
            ]
          },
          "metadata": {},
          "execution_count": 33
        }
      ]
    },
    {
      "cell_type": "code",
      "source": [
        "cols = x.columns"
      ],
      "metadata": {
        "id": "FgJojGJUQTgF"
      },
      "execution_count": null,
      "outputs": []
    },
    {
      "cell_type": "code",
      "source": [
        "from sklearn.preprocessing import MinMaxScaler\n",
        "ms = MinMaxScaler()\n",
        "x = ms.fit_transform(x)"
      ],
      "metadata": {
        "id": "fx_IHqoBQZFu"
      },
      "execution_count": null,
      "outputs": []
    },
    {
      "cell_type": "code",
      "source": [
        "x = pd.DataFrame(x, columns=[cols])"
      ],
      "metadata": {
        "id": "-Qi6rNwWQbzO"
      },
      "execution_count": null,
      "outputs": []
    },
    {
      "cell_type": "code",
      "source": [
        "x.head()"
      ],
      "metadata": {
        "colab": {
          "base_uri": "https://localhost:8080/",
          "height": 206
        },
        "id": "fvzRls1tQd5d",
        "outputId": "c57bc3f6-6797-415a-e7c2-5b1196ebfa74"
      },
      "execution_count": null,
      "outputs": [
        {
          "output_type": "execute_result",
          "data": {
            "text/plain": [
              "    Country ActiveSince LastBuilt   Retired    Length  Wingspan    Height  \\\n",
              "0  0.928571    0.666667  0.285714  0.981955  0.573348  0.100914  0.106340   \n",
              "1  0.928571    0.666667  0.194805  0.000000  0.042463  0.058598  0.028148   \n",
              "2  0.928571    0.809524  0.168831  0.000000  0.042995  0.058966  0.027177   \n",
              "3  0.500000    0.476190  0.090909  0.973935  0.049299  0.066336  0.075709   \n",
              "4  0.357143    0.619048  0.428571  0.987469  0.065856  0.080155  0.061149   \n",
              "\n",
              "   WingArea  MaxSpeed  \n",
              "0  0.100590  0.000000  \n",
              "1  0.026896  0.017751  \n",
              "2  0.027352  0.027219  \n",
              "3  0.054082  0.033136  \n",
              "4  0.046415  0.059172  "
            ],
            "text/html": [
              "\n",
              "  <div id=\"df-05db55a5-41db-49ad-bddd-3b59ae625810\">\n",
              "    <div class=\"colab-df-container\">\n",
              "      <div>\n",
              "<style scoped>\n",
              "    .dataframe tbody tr th:only-of-type {\n",
              "        vertical-align: middle;\n",
              "    }\n",
              "\n",
              "    .dataframe tbody tr th {\n",
              "        vertical-align: top;\n",
              "    }\n",
              "\n",
              "    .dataframe thead tr th {\n",
              "        text-align: left;\n",
              "    }\n",
              "</style>\n",
              "<table border=\"1\" class=\"dataframe\">\n",
              "  <thead>\n",
              "    <tr>\n",
              "      <th></th>\n",
              "      <th>Country</th>\n",
              "      <th>ActiveSince</th>\n",
              "      <th>LastBuilt</th>\n",
              "      <th>Retired</th>\n",
              "      <th>Length</th>\n",
              "      <th>Wingspan</th>\n",
              "      <th>Height</th>\n",
              "      <th>WingArea</th>\n",
              "      <th>MaxSpeed</th>\n",
              "    </tr>\n",
              "  </thead>\n",
              "  <tbody>\n",
              "    <tr>\n",
              "      <th>0</th>\n",
              "      <td>0.928571</td>\n",
              "      <td>0.666667</td>\n",
              "      <td>0.285714</td>\n",
              "      <td>0.981955</td>\n",
              "      <td>0.573348</td>\n",
              "      <td>0.100914</td>\n",
              "      <td>0.106340</td>\n",
              "      <td>0.100590</td>\n",
              "      <td>0.000000</td>\n",
              "    </tr>\n",
              "    <tr>\n",
              "      <th>1</th>\n",
              "      <td>0.928571</td>\n",
              "      <td>0.666667</td>\n",
              "      <td>0.194805</td>\n",
              "      <td>0.000000</td>\n",
              "      <td>0.042463</td>\n",
              "      <td>0.058598</td>\n",
              "      <td>0.028148</td>\n",
              "      <td>0.026896</td>\n",
              "      <td>0.017751</td>\n",
              "    </tr>\n",
              "    <tr>\n",
              "      <th>2</th>\n",
              "      <td>0.928571</td>\n",
              "      <td>0.809524</td>\n",
              "      <td>0.168831</td>\n",
              "      <td>0.000000</td>\n",
              "      <td>0.042995</td>\n",
              "      <td>0.058966</td>\n",
              "      <td>0.027177</td>\n",
              "      <td>0.027352</td>\n",
              "      <td>0.027219</td>\n",
              "    </tr>\n",
              "    <tr>\n",
              "      <th>3</th>\n",
              "      <td>0.500000</td>\n",
              "      <td>0.476190</td>\n",
              "      <td>0.090909</td>\n",
              "      <td>0.973935</td>\n",
              "      <td>0.049299</td>\n",
              "      <td>0.066336</td>\n",
              "      <td>0.075709</td>\n",
              "      <td>0.054082</td>\n",
              "      <td>0.033136</td>\n",
              "    </tr>\n",
              "    <tr>\n",
              "      <th>4</th>\n",
              "      <td>0.357143</td>\n",
              "      <td>0.619048</td>\n",
              "      <td>0.428571</td>\n",
              "      <td>0.987469</td>\n",
              "      <td>0.065856</td>\n",
              "      <td>0.080155</td>\n",
              "      <td>0.061149</td>\n",
              "      <td>0.046415</td>\n",
              "      <td>0.059172</td>\n",
              "    </tr>\n",
              "  </tbody>\n",
              "</table>\n",
              "</div>\n",
              "      <button class=\"colab-df-convert\" onclick=\"convertToInteractive('df-05db55a5-41db-49ad-bddd-3b59ae625810')\"\n",
              "              title=\"Convert this dataframe to an interactive table.\"\n",
              "              style=\"display:none;\">\n",
              "        \n",
              "  <svg xmlns=\"http://www.w3.org/2000/svg\" height=\"24px\"viewBox=\"0 0 24 24\"\n",
              "       width=\"24px\">\n",
              "    <path d=\"M0 0h24v24H0V0z\" fill=\"none\"/>\n",
              "    <path d=\"M18.56 5.44l.94 2.06.94-2.06 2.06-.94-2.06-.94-.94-2.06-.94 2.06-2.06.94zm-11 1L8.5 8.5l.94-2.06 2.06-.94-2.06-.94L8.5 2.5l-.94 2.06-2.06.94zm10 10l.94 2.06.94-2.06 2.06-.94-2.06-.94-.94-2.06-.94 2.06-2.06.94z\"/><path d=\"M17.41 7.96l-1.37-1.37c-.4-.4-.92-.59-1.43-.59-.52 0-1.04.2-1.43.59L10.3 9.45l-7.72 7.72c-.78.78-.78 2.05 0 2.83L4 21.41c.39.39.9.59 1.41.59.51 0 1.02-.2 1.41-.59l7.78-7.78 2.81-2.81c.8-.78.8-2.07 0-2.86zM5.41 20L4 18.59l7.72-7.72 1.47 1.35L5.41 20z\"/>\n",
              "  </svg>\n",
              "      </button>\n",
              "      \n",
              "  <style>\n",
              "    .colab-df-container {\n",
              "      display:flex;\n",
              "      flex-wrap:wrap;\n",
              "      gap: 12px;\n",
              "    }\n",
              "\n",
              "    .colab-df-convert {\n",
              "      background-color: #E8F0FE;\n",
              "      border: none;\n",
              "      border-radius: 50%;\n",
              "      cursor: pointer;\n",
              "      display: none;\n",
              "      fill: #1967D2;\n",
              "      height: 32px;\n",
              "      padding: 0 0 0 0;\n",
              "      width: 32px;\n",
              "    }\n",
              "\n",
              "    .colab-df-convert:hover {\n",
              "      background-color: #E2EBFA;\n",
              "      box-shadow: 0px 1px 2px rgba(60, 64, 67, 0.3), 0px 1px 3px 1px rgba(60, 64, 67, 0.15);\n",
              "      fill: #174EA6;\n",
              "    }\n",
              "\n",
              "    [theme=dark] .colab-df-convert {\n",
              "      background-color: #3B4455;\n",
              "      fill: #D2E3FC;\n",
              "    }\n",
              "\n",
              "    [theme=dark] .colab-df-convert:hover {\n",
              "      background-color: #434B5C;\n",
              "      box-shadow: 0px 1px 3px 1px rgba(0, 0, 0, 0.15);\n",
              "      filter: drop-shadow(0px 1px 2px rgba(0, 0, 0, 0.3));\n",
              "      fill: #FFFFFF;\n",
              "    }\n",
              "  </style>\n",
              "\n",
              "      <script>\n",
              "        const buttonEl =\n",
              "          document.querySelector('#df-05db55a5-41db-49ad-bddd-3b59ae625810 button.colab-df-convert');\n",
              "        buttonEl.style.display =\n",
              "          google.colab.kernel.accessAllowed ? 'block' : 'none';\n",
              "\n",
              "        async function convertToInteractive(key) {\n",
              "          const element = document.querySelector('#df-05db55a5-41db-49ad-bddd-3b59ae625810');\n",
              "          const dataTable =\n",
              "            await google.colab.kernel.invokeFunction('convertToInteractive',\n",
              "                                                     [key], {});\n",
              "          if (!dataTable) return;\n",
              "\n",
              "          const docLinkHtml = 'Like what you see? Visit the ' +\n",
              "            '<a target=\"_blank\" href=https://colab.research.google.com/notebooks/data_table.ipynb>data table notebook</a>'\n",
              "            + ' to learn more about interactive tables.';\n",
              "          element.innerHTML = '';\n",
              "          dataTable['output_type'] = 'display_data';\n",
              "          await google.colab.output.renderOutput(dataTable, element);\n",
              "          const docLink = document.createElement('div');\n",
              "          docLink.innerHTML = docLinkHtml;\n",
              "          element.appendChild(docLink);\n",
              "        }\n",
              "      </script>\n",
              "    </div>\n",
              "  </div>\n",
              "  "
            ]
          },
          "metadata": {},
          "execution_count": 37
        }
      ]
    },
    {
      "cell_type": "code",
      "source": [
        "X = C_df\n",
        "y = C_df['Country']"
      ],
      "metadata": {
        "id": "udgYc0IdRs7u"
      },
      "execution_count": null,
      "outputs": []
    },
    {
      "cell_type": "code",
      "source": [
        "display(X.shape, y.shape)"
      ],
      "metadata": {
        "colab": {
          "base_uri": "https://localhost:8080/",
          "height": 52
        },
        "id": "Q36ChWm3R743",
        "outputId": "b5796093-1de0-475c-9511-923d8059b95b"
      },
      "execution_count": null,
      "outputs": [
        {
          "output_type": "display_data",
          "data": {
            "text/plain": [
              "(337, 9)"
            ]
          },
          "metadata": {}
        },
        {
          "output_type": "display_data",
          "data": {
            "text/plain": [
              "(337,)"
            ]
          },
          "metadata": {}
        }
      ]
    },
    {
      "cell_type": "code",
      "source": [
        "from sklearn.model_selection import train_test_split"
      ],
      "metadata": {
        "id": "bWPspFTkSBWP"
      },
      "execution_count": null,
      "outputs": []
    },
    {
      "cell_type": "code",
      "source": [
        "X_train, X_test, y_train, y_test = train_test_split(X, y, random_state = 50, test_size = 0.25)"
      ],
      "metadata": {
        "id": "UKLrLW7pSIqJ"
      },
      "execution_count": null,
      "outputs": []
    },
    {
      "cell_type": "code",
      "source": [
        "from sklearn.tree import DecisionTreeClassifier"
      ],
      "metadata": {
        "id": "D1e8JZWbSLu5"
      },
      "execution_count": null,
      "outputs": []
    },
    {
      "cell_type": "code",
      "source": [
        "clf = DecisionTreeClassifier()\n",
        "clf.fit(X_train,y_train)"
      ],
      "metadata": {
        "colab": {
          "base_uri": "https://localhost:8080/"
        },
        "id": "BAG8jaCsSNWJ",
        "outputId": "1bb4f3d9-77b7-4dde-f6f8-07d407a44bf7"
      },
      "execution_count": null,
      "outputs": [
        {
          "output_type": "execute_result",
          "data": {
            "text/plain": [
              "DecisionTreeClassifier()"
            ]
          },
          "metadata": {},
          "execution_count": 43
        }
      ]
    },
    {
      "cell_type": "code",
      "source": [
        "y_pred = clf.predict(X_test)"
      ],
      "metadata": {
        "id": "cUQIDiKWSX5Q"
      },
      "execution_count": null,
      "outputs": []
    },
    {
      "cell_type": "code",
      "source": [
        "from sklearn.metrics import accuracy_score"
      ],
      "metadata": {
        "id": "S5xn0XxvSZ__"
      },
      "execution_count": null,
      "outputs": []
    },
    {
      "cell_type": "code",
      "source": [
        "print('Accuracy Score on train data (using Default criterionas gini): ', accuracy_score(y_true=y_train, y_pred=clf.predict(X_train)))\n",
        "print('Accuracy Score on test data (using Default criterionas gini): ', accuracy_score(y_true=y_test, y_pred=y_pred))"
      ],
      "metadata": {
        "colab": {
          "base_uri": "https://localhost:8080/"
        },
        "id": "ajppR2rESbCu",
        "outputId": "e1ca0dac-661a-4541-e371-6fa967236b92"
      },
      "execution_count": null,
      "outputs": [
        {
          "output_type": "stream",
          "name": "stdout",
          "text": [
            "Accuracy Score on train data (using Default criterionas gini):  1.0\n",
            "Accuracy Score on test data (using Default criterionas gini):  0.9529411764705882\n"
          ]
        }
      ]
    },
    {
      "cell_type": "code",
      "source": [
        "clf_entropy = DecisionTreeClassifier(criterion = 'entropy')"
      ],
      "metadata": {
        "id": "eCBpDXQQSeeH"
      },
      "execution_count": null,
      "outputs": []
    },
    {
      "cell_type": "code",
      "source": [
        "clf_entropy.fit(X_train, y_train)"
      ],
      "metadata": {
        "colab": {
          "base_uri": "https://localhost:8080/"
        },
        "id": "qK0tK7evSgjZ",
        "outputId": "e162c46e-ad32-4fe5-b431-a8b1051b0d74"
      },
      "execution_count": null,
      "outputs": [
        {
          "output_type": "execute_result",
          "data": {
            "text/plain": [
              "DecisionTreeClassifier(criterion='entropy')"
            ]
          },
          "metadata": {},
          "execution_count": 48
        }
      ]
    },
    {
      "cell_type": "code",
      "source": [
        "y_pred_entropy =  clf_entropy.predict(X_test)"
      ],
      "metadata": {
        "id": "SZLeSya6Sk1A"
      },
      "execution_count": null,
      "outputs": []
    },
    {
      "cell_type": "code",
      "source": [
        "print('Accuracy Score on train data (using Default criterion as Entropy): ', accuracy_score(y_true=y_train, y_pred =clf_entropy.predict(X_train)))\n",
        "print('Accuracy Score on test data (using Default criterion as Entropy): ', accuracy_score(y_true=y_test, y_pred =y_pred_entropy))"
      ],
      "metadata": {
        "colab": {
          "base_uri": "https://localhost:8080/"
        },
        "id": "cE3e_KWwSl_8",
        "outputId": "5d466da8-7809-4dc5-ad0d-ac8b83521eda"
      },
      "execution_count": null,
      "outputs": [
        {
          "output_type": "stream",
          "name": "stdout",
          "text": [
            "Accuracy Score on train data (using Default criterion as Entropy):  1.0\n",
            "Accuracy Score on test data (using Default criterion as Entropy):  0.9647058823529412\n"
          ]
        }
      ]
    },
    {
      "cell_type": "code",
      "source": [
        "clf2 = DecisionTreeClassifier( min_samples_split=50)\n",
        "clf2.fit(X_train, y_train)"
      ],
      "metadata": {
        "colab": {
          "base_uri": "https://localhost:8080/"
        },
        "id": "hqjTc38GSopY",
        "outputId": "895419e8-22a3-40ee-c6c4-48347f634318"
      },
      "execution_count": null,
      "outputs": [
        {
          "output_type": "execute_result",
          "data": {
            "text/plain": [
              "DecisionTreeClassifier(min_samples_split=50)"
            ]
          },
          "metadata": {},
          "execution_count": 51
        }
      ]
    },
    {
      "cell_type": "code",
      "source": [
        "print('Accuracy Score on train data (using Default criterion as Entropy & min_samples_split): ', accuracy_score(y_true=y_train, y_pred=clf2.predict(X_train)))\n",
        "print('Accuracy Score on the test data (using Default criterion as Entropy & min_samples_split): ', accuracy_score(y_true=y_test, y_pred=clf2.predict(X_test)))"
      ],
      "metadata": {
        "colab": {
          "base_uri": "https://localhost:8080/"
        },
        "id": "SYlL8lueSsbO",
        "outputId": "f9f894b6-abce-408c-c68e-a42794f7c7db"
      },
      "execution_count": null,
      "outputs": [
        {
          "output_type": "stream",
          "name": "stdout",
          "text": [
            "Accuracy Score on train data (using Default criterion as Entropy & min_samples_split):  0.9642857142857143\n",
            "Accuracy Score on the test data (using Default criterion as Entropy & min_samples_split):  0.9411764705882353\n"
          ]
        }
      ]
    },
    {
      "cell_type": "code",
      "source": [
        "from sklearn.metrics import confusion_matrix\n",
        "cm = confusion_matrix(y_test, y_pred) "
      ],
      "metadata": {
        "id": "D226deokSwb9"
      },
      "execution_count": null,
      "outputs": []
    },
    {
      "cell_type": "code",
      "source": [
        "cm"
      ],
      "metadata": {
        "colab": {
          "base_uri": "https://localhost:8080/"
        },
        "id": "aeVlGM8eS0IS",
        "outputId": "5c9f9d96-d089-45f6-8631-f848d06ff7ed"
      },
      "execution_count": null,
      "outputs": [
        {
          "output_type": "execute_result",
          "data": {
            "text/plain": [
              "array([[ 0,  0,  0,  0,  0,  0,  0,  0,  0,  0,  0,  0],\n",
              "       [ 0,  0,  1,  0,  0,  0,  0,  0,  0,  0,  0,  0],\n",
              "       [ 1,  0,  0,  0,  0,  0,  0,  0,  0,  0,  0,  0],\n",
              "       [ 0,  0,  0,  4,  0,  0,  0,  0,  0,  0,  0,  0],\n",
              "       [ 0,  0,  0,  0, 10,  0,  0,  0,  0,  0,  0,  0],\n",
              "       [ 0,  0,  0,  0,  0,  7,  0,  0,  0,  0,  0,  0],\n",
              "       [ 0,  0,  0,  0,  0,  0, 21,  0,  0,  0,  0,  0],\n",
              "       [ 0,  0,  0,  0,  0,  0,  0,  0,  0,  0,  0,  0],\n",
              "       [ 0,  0,  0,  0,  0,  0,  0,  2,  1,  0,  0,  0],\n",
              "       [ 0,  0,  0,  0,  0,  0,  0,  0,  0,  6,  0,  0],\n",
              "       [ 0,  0,  0,  0,  0,  0,  0,  0,  0,  0, 15,  0],\n",
              "       [ 0,  0,  0,  0,  0,  0,  0,  0,  0,  0,  0, 17]])"
            ]
          },
          "metadata": {},
          "execution_count": 54
        }
      ]
    }
  ]
}